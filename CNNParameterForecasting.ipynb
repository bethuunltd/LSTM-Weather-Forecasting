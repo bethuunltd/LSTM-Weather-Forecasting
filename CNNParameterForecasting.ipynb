{
  "nbformat": 4,
  "nbformat_minor": 0,
  "metadata": {
    "colab": {
      "provenance": [],
      "include_colab_link": true
    },
    "kernelspec": {
      "name": "python3",
      "display_name": "Python 3"
    },
    "language_info": {
      "name": "python"
    }
  },
  "cells": [
    {
      "cell_type": "markdown",
      "metadata": {
        "id": "view-in-github",
        "colab_type": "text"
      },
      "source": [
        "<a href=\"https://colab.research.google.com/github/bethuunltd/LSTM-Weather-Forecasting/blob/main/CNNParameterForecasting.ipynb\" target=\"_parent\"><img src=\"https://colab.research.google.com/assets/colab-badge.svg\" alt=\"Open In Colab\"/></a>"
      ]
    },
    {
      "cell_type": "code",
      "execution_count": 1,
      "metadata": {
        "id": "NdsJSlmcZrg6"
      },
      "outputs": [],
      "source": [
        "import pandas as pd\n",
        "import torch\n",
        "import numpy as np\n",
        "import torch.nn as nn\n",
        "from sklearn.preprocessing import MinMaxScaler\n",
        "from torch.utils.data import TensorDataset,DataLoader\n"
      ]
    },
    {
      "cell_type": "code",
      "source": [
        "df = pd.read_csv('data.csv')\n",
        "df['date'] = pd.to_datetime(df['date'])\n",
        "df.set_index('date')\n",
        "print(df['date'])\n",
        "parameter = df[['ws']]\n",
        "lookback = 10\n",
        "horizon = 5\n",
        "\n",
        "scaler = MinMaxScaler()\n",
        "\n",
        "train_len = 0.7*len(parameter)\n",
        "val_len = 0.2*len(parameter)\n",
        "\n",
        "train = parameter[:int(train_len)]\n",
        "val = parameter[int(train_len):int(train_len+val_len)]\n",
        "test = parameter[int(train_len+val_len):]\n",
        "\n",
        "\n",
        "#The scaler has no cross-contamination between features.\n",
        "train_scaled = scaler.fit_transform(train)\n",
        "val_scaled = scaler.transform(val)\n",
        "test_scaled = scaler.transform(test)\n",
        "\n",
        "\n"
      ],
      "metadata": {
        "colab": {
          "base_uri": "https://localhost:8080/"
        },
        "id": "-xBCvXEoZv42",
        "outputId": "e375fcec-99f3-47a3-d2fb-cf46f0c8cc61"
      },
      "execution_count": 3,
      "outputs": [
        {
          "output_type": "stream",
          "name": "stdout",
          "text": [
            "0       2016-01-01 00:00:00\n",
            "1       2016-01-01 01:00:00\n",
            "2       2016-01-01 02:00:00\n",
            "3       2016-01-01 03:00:00\n",
            "4       2016-01-01 04:00:00\n",
            "                ...        \n",
            "44683   2021-02-04 19:00:00\n",
            "44684   2021-02-04 20:00:00\n",
            "44685   2021-02-04 21:00:00\n",
            "44686   2021-02-04 22:00:00\n",
            "44687   2021-02-04 23:00:00\n",
            "Name: date, Length: 44688, dtype: datetime64[ns]\n"
          ]
        }
      ]
    },
    {
      "cell_type": "code",
      "source": [
        "def create_sequences(data,lookback,horizon):\n",
        "  X,y = [],[]\n",
        "  for i in range(len(data)-lookback-horizon):\n",
        "    X.append(data[i:i+lookback])\n",
        "    y.append(data[i+lookback:i+lookback+horizon])#Starts from the last datapoint of X, and goes \"horizon\" days more.\n",
        "  return np.array(X),np.array(y)\n",
        "\n",
        "\n",
        "X_train,y_train = create_sequences(train_scaled,lookback,horizon)\n",
        "X_val,y_val = create_sequences(val_scaled,lookback,horizon)\n",
        "X_test,y_test = create_sequences(test_scaled,lookback,horizon)\n",
        "X_train = torch.from_numpy(X_train).float()\n",
        "y_train = torch.from_numpy(y_train).float()\n",
        "X_val = torch.from_numpy(X_val).float()\n",
        "y_val = torch.from_numpy(y_val).float()\n",
        "X_test = torch.from_numpy(X_test).float()\n",
        "y_test = torch.from_numpy(y_test).float()\n",
        "\n"
      ],
      "metadata": {
        "id": "Tl5bIRi2o6b2"
      },
      "execution_count": 4,
      "outputs": []
    },
    {
      "cell_type": "code",
      "source": [
        "class CNN_LSTM(nn.Module):\n",
        "    def __init__(self, input_size=1, cnn_filters=56, kernel_size=3,\n",
        "                 hidden_size=64, num_layers=2, horizon=5, dropout=0.3):\n",
        "        super(CNN_LSTM, self).__init__()\n",
        "        self.horizon = horizon\n",
        "        self.input_size = input_size\n",
        "        self.hidden_size = hidden_size\n",
        "        self.num_layers = num_layers\n",
        "\n",
        "        self.cnn = nn.Conv1d(in_channels=input_size,\n",
        "                             out_channels=cnn_filters,\n",
        "                             kernel_size=kernel_size,\n",
        "                             padding=kernel_size // 2)#Kernel size padding looks back and forth from\n",
        "        self.relu = nn.ReLU()\n",
        "        self.cnn_dropout = nn.Dropout(p=dropout)\n",
        "\n",
        "        self.lstm = nn.LSTM(input_size=cnn_filters,\n",
        "                            hidden_size=hidden_size,\n",
        "                            num_layers=num_layers,\n",
        "                            batch_first=True,\n",
        "                            dropout=dropout)\n",
        "\n",
        "        self.fc_dropout = nn.Dropout(p=dropout)\n",
        "        self.fc = nn.Linear(hidden_size, horizon * input_size)\n",
        "\n",
        "    def forward(self, x):\n",
        "        x = x.permute(0, 2, 1)  # (batch, features, time)\n",
        "        x = self.relu(self.cnn(x))\n",
        "        x = self.cnn_dropout(x)\n",
        "        x = x.permute(0, 2, 1)  # (batch, time, features)\n",
        "\n",
        "        h0 = torch.zeros(self.num_layers, x.size(0), self.hidden_size, device=x.device)\n",
        "        c0 = torch.zeros(self.num_layers, x.size(0), self.hidden_size, device=x.device)\n",
        "\n",
        "        out, _ = self.lstm(x, (h0, c0))\n",
        "        out = self.fc_dropout(out[:, -1, :])\n",
        "        out = self.fc(out)\n",
        "        out = out.view(-1, self.horizon, self.input_size)\n",
        "        return out"
      ],
      "metadata": {
        "id": "I6uEEi5WZy-v"
      },
      "execution_count": 5,
      "outputs": []
    }
  ]
}